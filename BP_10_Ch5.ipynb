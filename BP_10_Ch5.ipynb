{
  "nbformat": 4,
  "nbformat_minor": 0,
  "metadata": {
    "colab": {
      "provenance": [],
      "include_colab_link": true
    },
    "kernelspec": {
      "name": "python3",
      "display_name": "Python 3"
    },
    "language_info": {
      "name": "python"
    }
  },
  "cells": [
    {
      "cell_type": "markdown",
      "metadata": {
        "id": "view-in-github",
        "colab_type": "text"
      },
      "source": [
        "<a href=\"https://colab.research.google.com/github/jeonhyeonjoon1/BP_10_Ch5/blob/main/BP_10_Ch5.ipynb\" target=\"_parent\"><img src=\"https://colab.research.google.com/assets/colab-badge.svg\" alt=\"Open In Colab\"/></a>"
      ]
    },
    {
      "cell_type": "code",
      "execution_count": null,
      "metadata": {
        "colab": {
          "base_uri": "https://localhost:8080/"
        },
        "id": "BwOHmMNI3ce_",
        "outputId": "c03f174b-888c-4faf-ffe7-7bbcbe19029c"
      },
      "outputs": [
        {
          "output_type": "stream",
          "name": "stdout",
          "text": [
            "20살 이상\n"
          ]
        }
      ],
      "source": [
        "age = 20               # age라는 변수에 20을 저장\n",
        "if age < 20:           # if를 사용해 20미만일 경우 '20살 미만'을 출력\n",
        "   print('20살 미만')\n",
        "else:                  # else를 사용해 20미만이 아닐경우 '20살 이상'을 출력\n",
        "  print('20살 이상')"
      ]
    },
    {
      "cell_type": "code",
      "source": [
        "age = 20                             # age라는 변수에 20을 저장\n",
        "if age >= 30 and age <= 50:          # if 함수를 사용해 조건문을 만들고 and 연산자를 활용하여 30이상,50이하로 조건문 2개의 교집합을 조건으로 만듬\n",
        "  print('30살 이상이고 50살 이하')"
      ],
      "metadata": {
        "id": "eppqrMEJ_OWi"
      },
      "execution_count": null,
      "outputs": []
    },
    {
      "cell_type": "code",
      "source": [
        "temp = int(input(\"현재 온도를 입력하시오:\")) #input으로 사용자에게 값을 입력받고 int함수로 받은 문자열을 숫자열로 변환, 변환된 값을 temp라는 변수에 저장\n",
        "if temp >= 25:                               #if조건문으로 받은 값이 25 이하일시 \"반바지를 입으세요\"를 출력\n",
        "  print(\"반바지를 입으세요\")\n",
        "else:                                        #else를 활용해 받은 값이 25이하가 아닐시 \"긴바지를 입으세요\"를 출력\n",
        "  print(\"긴바지를 입으세요\")"
      ],
      "metadata": {
        "colab": {
          "base_uri": "https://localhost:8080/"
        },
        "id": "XvChPuyz-lra",
        "outputId": "9f33ef9d-4a7a-4562-bff8-2c769ca6172c"
      },
      "execution_count": null,
      "outputs": [
        {
          "output_type": "stream",
          "name": "stdout",
          "text": [
            "현재 온도를 입력하시오:10\n",
            "긴바지를 입으세요\n"
          ]
        }
      ]
    },
    {
      "cell_type": "code",
      "source": [
        "score = int(input(\"성적을 입력하시오:\")) #input를 활용해 사용자에게 값을 받고 그 값을 int로 숫자열로 변환, 그 값을 score라는 변수에 저장\n",
        "\n",
        "if score >= 90:                          #if를 활용해 90점이상일 경우 들여쓰기된 print문을 출력\n",
        "  print(\"A학점입니다.\")\n",
        "elif score >= 80:                        #elif를 활용해 위의 조건을 만족하지 않을 경우 새로운 조건을 적용하고 조건에 맞을경우 들여쓰기된 print문을 출력\n",
        "  print(\"B학점입니다.\")                   \n",
        "elif score >= 70:\n",
        "  print(\"C학점입니다.\")\n",
        "elif score >= 60:\n",
        "  print(\"D학점입니다.\")\n",
        "else :                                   #else를 활용해 위의 모든 조건을 만족하지 못할경우 아래 print문을 출력\n",
        "  print(\"F학점입니다.\")"
      ],
      "metadata": {
        "colab": {
          "base_uri": "https://localhost:8080/"
        },
        "id": "tJTzSfFcCNsO",
        "outputId": "305c3079-2f2d-4bc0-f11f-2225e29ca3ca"
      },
      "execution_count": null,
      "outputs": [
        {
          "output_type": "stream",
          "name": "stdout",
          "text": [
            "성적을 입력하시오:99\n",
            "A학점입니다.\n"
          ]
        }
      ]
    },
    {
      "cell_type": "code",
      "source": [
        "import random                            #랜덤 함수를 불러옴\n",
        "x = random.randint(1,100)                #random을 활용해 1에서 100중 하나를 랜덤으로 선택하고 randint를 활용해 숫자열로 변환한 후 그 값을 x에 저장\n",
        "y = random.randint(1,100)\n",
        "\n",
        "ans = int(input(str(x)+\"-\"+str(y)+\"=\")) #랜덤으로 나온 값을 다시 문자열로 전환해 input으로 값을 받을때 출력되게 str로 변환, 받은값을 int로 숫자열로 전환 후 ans라는 변수에 저장\n",
        "\n",
        "if ans == x-y :                         #if와 ==를 활용해 ans에 저장된 값과 랜덤으로 나온 x-y의 값이 같으면 들여쓰기된 print문을 출력\n",
        "  print(\"맞았습니다\")\n",
        "else :                                  #else를 활용해 값이 다르면 들여쓰기된 print문을 출력\n",
        "  print(\"틀렸습니다\")"
      ],
      "metadata": {
        "colab": {
          "base_uri": "https://localhost:8080/"
        },
        "id": "05SAcmI7EPQU",
        "outputId": "534bb2d4-b267-4379-8c48-8001ceefeec8"
      },
      "execution_count": null,
      "outputs": [
        {
          "output_type": "stream",
          "name": "stdout",
          "text": [
            "91-37=54\n",
            "맞았습니다\n"
          ]
        }
      ]
    },
    {
      "cell_type": "code",
      "source": [
        "n = int(input(\"정수를 입력하시오: \"))   #사용자에게 정수를 받고 그 값을 숫자열로 변환 후 n이라는 변수에 저장\n",
        "\n",
        "if n%2==0 and n%3==0:                   #나머지를 나타내는%와 서로값이 같다는=를 활용하여 2와3으로 나누었을때나머지가 0과 같으면 아래 들여쓰기된 문장을 출력한다\n",
        "  print(\"2와 3으로 나누어 떨어집니다.\")\n",
        "else :                                  #else를 활용해 위 조건이 안맞을 경우 아래 들여쓰기된 문장을 출력한다\n",
        "  print(\"2와 3으로 나누어 떨어지지 않습니다.\")"
      ],
      "metadata": {
        "colab": {
          "base_uri": "https://localhost:8080/"
        },
        "id": "2SdpyCstGwQf",
        "outputId": "c3a9a964-be50-4d78-e48e-bf6eb98d92c5"
      },
      "execution_count": null,
      "outputs": [
        {
          "output_type": "stream",
          "name": "stdout",
          "text": [
            "정수를 입력하시오: 6\n",
            "2와 3으로 나누어 떨어집니다.\n"
          ]
        }
      ]
    },
    {
      "cell_type": "code",
      "source": [
        "import random                         #랜덤 함수를 불러옴\n",
        "\n",
        "solution = random.randint(0,99)       #solution이라는 변수에 0에서99까지의 정수중 하나를 랜덤으로 할당\n",
        "\n",
        "user = int(input(\"복권번호를 입력하시요(0에서 99사이):\"))  #사용자에게 값을 입력받고 숫자열로 변환\n",
        "\n",
        "digit1 = solution // 10           #랜덤으로 나온 숫자의 십의자리 숫자를 저장\n",
        "digit2 = solution % 10            #랜덤으로 나온 숫자의 일의자리 숫자를 저장\n",
        "\n",
        "u_digit1 = user // 10             #사용자가 입력한 숫자의 십의자리 숫자를 저장            \n",
        "u_digit2 = user % 10              #사용자가 입력한 숫자의 일의자리 숫자를 저장\n",
        "\n",
        "print(\"당첨번호는\", solution, \"입니다.\") \n",
        "\n",
        "if (digit1 == u_digit1 and digit2 == u_digit2): #숫자가 완벽히 같을경우 아래 들여쓰기된 문장을 출력\n",
        "  print(\"상금은 100만원입니다.\")\n",
        "elif (digit1 == u_digit1                        #숫자를 하나만 같을경우 아래 들여쓰기된 문장을 출력\n",
        "      or digit1 == u_digit2\n",
        "      or digit2 == u_digit1\n",
        "      or digit2 == u_digit2):\n",
        "  print(\"상금은 50만원입니다.\")\n",
        "else:                                           #위 두 조건을 모두 충족하지 못할 경우 아래 들여쓰기된 문장을 출력\n",
        "  print(\"상금은 없습니다.\")"
      ],
      "metadata": {
        "id": "JN13-YmZG8pC",
        "outputId": "e5629ce8-934e-40ba-f7c6-57f32a65f172",
        "colab": {
          "base_uri": "https://localhost:8080/"
        }
      },
      "execution_count": 8,
      "outputs": [
        {
          "output_type": "stream",
          "name": "stdout",
          "text": [
            "복권번호를 입력하시요(0에서 99사이):16\n",
            "당첨번호는 11 입니다.\n",
            "상금은 50만원입니다.\n"
          ]
        }
      ]
    },
    {
      "cell_type": "code",
      "source": [
        "import turtle                    #터틀그래픽을 불러옴\n",
        "t= turtle.Turtle()               #t라는 변수에 turtle.Turtle()을 저장\n",
        "t.shape(\"turtle\")                #펜의 모양을 거북이로 설정\n",
        "\n",
        "x1 = int(input(\"큰 원의 중심좌표 x1: \"))        #사용자에게 값을 받고 int로 숫자열로 변환\n",
        "y1 = int(input(\"큰 원의 중심좌표 y1: \"))\n",
        "r1 = int(input(\"큰 원의 반지름 r1: \"))\n",
        "x2 = int(input(\"작은 원의 중심좌표 x2: \"))\n",
        "y2 = int(input(\"작은 원의 중심좌표 y2: \"))\n",
        "r2 = int(input(\"작은 원의 반지름 r2: \"))\n",
        "\n",
        "t.penup()                       #펜을들어 이동시 안그려지게 함\n",
        "t.goto(x1, y1)                  #해당 좌표로 이동\n",
        "t.pendown()                     #펜을내려 이동시 그려지게 함\n",
        "t.circle(r1)                    #정해진 값을 반지름으로 원을 그림\n",
        "\n",
        "t.penup()                       \n",
        "t.goto(x2, y2)                  \n",
        "t.pendown()                      \n",
        "t.circle(r2)\n",
        "\n",
        "dist = ((x1 - x2) * (x1 - x2) + (y1 - y2) * (y1 - y2)) ** 0.5   #원의 중심점사이의 거리를 계산\n",
        "if dist <= r1-r2:                                               #중심점사이의 거리가 두 원의 반지름길이의 차보다 작거나 같을 경우 아래 들여쓰기된 문장을 출력\n",
        "    turtle.write(\"두번째 원이 첫번째 원의 내부에 있습니다.\")\n",
        "elif dist <= r1+r2:                                             #중심점사이의 거리가 두 원의 반지름길이의 합보다 작거나 같을 경우 아래 들여쓰기된 문장을 출력                                        \n",
        "    turtle.write(\"두번재 원이 첫번째 원과 겹칩니다.\")\n",
        "else:                                                           #위 두 조건을 모두 충족하지 못할경우 아래 들여쓰기된 문장을 출력\n",
        "    turtle.write(\"두번째 원이 첫번째 원의 바깥에 있습니다\")\n",
        "exitonclick()"
      ],
      "metadata": {
        "id": "sV4t3uj7G9ez"
      },
      "execution_count": null,
      "outputs": []
    }
  ]
}