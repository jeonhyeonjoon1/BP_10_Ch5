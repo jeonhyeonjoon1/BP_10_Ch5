{
  "nbformat": 4,
  "nbformat_minor": 0,
  "metadata": {
    "colab": {
      "provenance": [],
      "authorship_tag": "ABX9TyNQ1rP5wwl9XaYi0SrIJ4uK",
      "include_colab_link": true
    },
    "kernelspec": {
      "name": "python3",
      "display_name": "Python 3"
    },
    "language_info": {
      "name": "python"
    }
  },
  "cells": [
    {
      "cell_type": "markdown",
      "metadata": {
        "id": "view-in-github",
        "colab_type": "text"
      },
      "source": [
        "<a href=\"https://colab.research.google.com/github/jeonhyeonjoon1/BP_10_Ch5/blob/main/BP_10_Ch5.ipynb\" target=\"_parent\"><img src=\"https://colab.research.google.com/assets/colab-badge.svg\" alt=\"Open In Colab\"/></a>"
      ]
    },
    {
      "cell_type": "code",
      "execution_count": 7,
      "metadata": {
        "colab": {
          "base_uri": "https://localhost:8080/"
        },
        "id": "BwOHmMNI3ce_",
        "outputId": "c03f174b-888c-4faf-ffe7-7bbcbe19029c"
      },
      "outputs": [
        {
          "output_type": "stream",
          "name": "stdout",
          "text": [
            "20살 이상\n"
          ]
        }
      ],
      "source": [
        "age = 20               # age라는 변수에 20을 저장\n",
        "if age < 20:           # if를 사용해 20미만일 경우 '20살 미만'을 출력\n",
        "   print('20살 미만')\n",
        "else:                  # else를 사용해 20미만이 아닐경우 '20살 이상'을 출력\n",
        "  print('20살 이상')"
      ]
    },
    {
      "cell_type": "code",
      "source": [
        "age = 20                             # age라는 변수에 20을 저장\n",
        "if age >= 30 and age <= 50:          # if 함수를 사용해 조건문을 만들고 and 연산자를 활용하여 30이상,50이하로 조건문 2개의 교집합을 조건으로 만듬\n",
        "  print('30살 이상이고 50살 이하')"
      ],
      "metadata": {
        "id": "eppqrMEJ_OWi"
      },
      "execution_count": 6,
      "outputs": []
    },
    {
      "cell_type": "code",
      "source": [
        "temp = int(input(\"현재 온도를 입력하시오:\")) #input으로 사용자에게 값을 입력받고 int함수로 받은 문자열을 숫자열로 변환, 변환된 값을 temp라는 변수에 저장\n",
        "if temp >= 25:                               #if조건문으로 받은 값이 25 이하일시 \"반바지를 입으세요\"를 출력\n",
        "  print(\"반바지를 입으세요\")\n",
        "else:                                        #else를 활용해 받은 값이 25이하가 아닐시 \"긴바지를 입으세요\"를 출력\n",
        "  print(\"긴바지를 입으세요\")"
      ],
      "metadata": {
        "colab": {
          "base_uri": "https://localhost:8080/"
        },
        "id": "XvChPuyz-lra",
        "outputId": "9f33ef9d-4a7a-4562-bff8-2c769ca6172c"
      },
      "execution_count": 8,
      "outputs": [
        {
          "output_type": "stream",
          "name": "stdout",
          "text": [
            "현재 온도를 입력하시오:10\n",
            "긴바지를 입으세요\n"
          ]
        }
      ]
    },
    {
      "cell_type": "code",
      "source": [],
      "metadata": {
        "id": "tJTzSfFcCNsO"
      },
      "execution_count": null,
      "outputs": []
    }
  ]
}